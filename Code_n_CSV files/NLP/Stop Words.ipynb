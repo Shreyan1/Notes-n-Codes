{
 "cells": [
  {
   "cell_type": "markdown",
   "id": "693c4075-9e2b-44af-bf04-e1be80ceedf6",
   "metadata": {},
   "source": [
    "Let me give you an example first - \n",
    "\" I am a good person\"\n",
    "- Here 'I', 'am', 'a' are not significant. Only 'good' and 'person' are.\n",
    "- These non-significant words are called stop words.\n",
    "- These stop words are generally removed before doing any kind of analysis.\n",
    "- NLTK has its own list of stop words."
   ]
  },
  {
   "cell_type": "code",
   "execution_count": 1,
   "id": "9beb034e-0156-4e46-a2bd-807976362283",
   "metadata": {},
   "outputs": [
    {
     "name": "stderr",
     "output_type": "stream",
     "text": [
      "[nltk_data] Downloading package stopwords to\n",
      "[nltk_data]     /home/shreyanbr/nltk_data...\n",
      "[nltk_data]   Package stopwords is already up-to-date!\n"
     ]
    },
    {
     "data": {
      "text/plain": [
       "True"
      ]
     },
     "execution_count": 1,
     "metadata": {},
     "output_type": "execute_result"
    }
   ],
   "source": [
    "import nltk\n",
    "nltk.download('stopwords')"
   ]
  },
  {
   "cell_type": "code",
   "execution_count": 2,
   "id": "6c831297-256f-4d17-8fea-4560645ff0c4",
   "metadata": {},
   "outputs": [
    {
     "data": {
      "text/plain": [
       "['i',\n",
       " 'me',\n",
       " 'my',\n",
       " 'myself',\n",
       " 'we',\n",
       " 'our',\n",
       " 'ours',\n",
       " 'ourselves',\n",
       " 'you',\n",
       " \"you're\",\n",
       " \"you've\",\n",
       " \"you'll\",\n",
       " \"you'd\",\n",
       " 'your',\n",
       " 'yours',\n",
       " 'yourself',\n",
       " 'yourselves',\n",
       " 'he',\n",
       " 'him',\n",
       " 'his']"
      ]
     },
     "execution_count": 2,
     "metadata": {},
     "output_type": "execute_result"
    }
   ],
   "source": [
    "from nltk.corpus import stopwords\n",
    "stopwords.words('english')[:20] #showing only first 20"
   ]
  },
  {
   "cell_type": "code",
   "execution_count": 3,
   "id": "faccd057-acbe-4a99-ad03-3092d5ae2581",
   "metadata": {},
   "outputs": [
    {
     "data": {
      "text/plain": [
       "179"
      ]
     },
     "execution_count": 3,
     "metadata": {},
     "output_type": "execute_result"
    }
   ],
   "source": [
    "len(stopwords.words('english')) #out of 179 stop words"
   ]
  },
  {
   "cell_type": "code",
   "execution_count": 4,
   "id": "bf29ab4a-345c-463b-acb8-1cb63aa775d0",
   "metadata": {},
   "outputs": [],
   "source": [
    "test = \"Hey! This is a test sentence\""
   ]
  },
  {
   "cell_type": "markdown",
   "id": "523e2576-bbde-4f2a-89d1-85fe08fb7fbc",
   "metadata": {},
   "source": [
    "Note that the test sentence has 2 punctuation marks, (!) and (.). We need to get rid of all punctuation to find the stop words. We'll use the punctuation library of the string module."
   ]
  },
  {
   "cell_type": "code",
   "execution_count": 5,
   "id": "f74a436e-cdb4-450c-91ee-071222667a0e",
   "metadata": {},
   "outputs": [
    {
     "data": {
      "text/plain": [
       "['H',\n",
       " 'e',\n",
       " 'y',\n",
       " ' ',\n",
       " 'T',\n",
       " 'h',\n",
       " 'i',\n",
       " 's',\n",
       " ' ',\n",
       " 'i',\n",
       " 's',\n",
       " ' ',\n",
       " 'a',\n",
       " ' ',\n",
       " 't',\n",
       " 'e',\n",
       " 's',\n",
       " 't',\n",
       " ' ',\n",
       " 's',\n",
       " 'e',\n",
       " 'n',\n",
       " 't',\n",
       " 'e',\n",
       " 'n',\n",
       " 'c',\n",
       " 'e']"
      ]
     },
     "execution_count": 5,
     "metadata": {},
     "output_type": "execute_result"
    }
   ],
   "source": [
    "import string\n",
    "#str = []\n",
    "#for char in test:\n",
    "#    if char not in string.punctuation:\n",
    "#        str.append(char)\n",
    "\n",
    "#let us use a list comprehension method instead of using this above. Better and more efficient\n",
    "str = [char for char in test if char not in string.punctuation]\n",
    "str"
   ]
  },
  {
   "cell_type": "code",
   "execution_count": 6,
   "id": "fc988ad7-e456-478e-b130-512c5267b55b",
   "metadata": {},
   "outputs": [
    {
     "data": {
      "text/plain": [
       "'Hey This is a test sentence'"
      ]
     },
     "execution_count": 6,
     "metadata": {},
     "output_type": "execute_result"
    }
   ],
   "source": [
    "str = ''.join(str)\n",
    "str"
   ]
  },
  {
   "cell_type": "code",
   "execution_count": 7,
   "id": "6ec7495f-fa78-46c5-a703-9db8f1e94ec3",
   "metadata": {},
   "outputs": [
    {
     "data": {
      "text/plain": [
       "['Hey', 'This', 'is', 'a', 'test', 'sentence']"
      ]
     },
     "execution_count": 7,
     "metadata": {},
     "output_type": "execute_result"
    }
   ],
   "source": [
    "#let us split this string into pieces where a space is found\n",
    "x = str.split()\n",
    "x"
   ]
  },
  {
   "cell_type": "code",
   "execution_count": 8,
   "id": "66852318-91b5-4cbc-a82e-32d677a3a564",
   "metadata": {},
   "outputs": [
    {
     "data": {
      "text/plain": [
       "['Hey', 'test', 'sentence']"
      ]
     },
     "execution_count": 8,
     "metadata": {},
     "output_type": "execute_result"
    }
   ],
   "source": [
    "cleaned = [word for word in x if word.lower() not in stopwords.words('english')]\n",
    "cleaned"
   ]
  }
 ],
 "metadata": {
  "kernelspec": {
   "display_name": "Python 3 (ipykernel)",
   "language": "python",
   "name": "python3"
  },
  "language_info": {
   "codemirror_mode": {
    "name": "ipython",
    "version": 3
   },
   "file_extension": ".py",
   "mimetype": "text/x-python",
   "name": "python",
   "nbconvert_exporter": "python",
   "pygments_lexer": "ipython3",
   "version": "3.11.5"
  }
 },
 "nbformat": 4,
 "nbformat_minor": 5
}
