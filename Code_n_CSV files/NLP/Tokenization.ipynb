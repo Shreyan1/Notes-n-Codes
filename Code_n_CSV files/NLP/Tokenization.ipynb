{
 "cells": [
  {
   "cell_type": "markdown",
   "id": "6afc40ff-6637-443d-8bfa-7bbdb0e685a2",
   "metadata": {},
   "source": [
    "- Tokenisation refers to breaking a sentence into words.\n",
    "- Tokens of any number of consecutive written words are known as Ngram, where - N = 1,2,3,4...\n",
    "- Tokens of 2 consecutive written words are known as Bigram\n",
    "- Tokens of 3 consecutive written words are known as Trigram\n",
    "- To do tokenisation, first we should download and use 'punkt' package that is useful to divide text into a group of sentences"
   ]
  },
  {
   "cell_type": "code",
   "execution_count": 2,
   "id": "f4e68e2e-5951-4604-b556-a436486a8a77",
   "metadata": {},
   "outputs": [
    {
     "name": "stderr",
     "output_type": "stream",
     "text": [
      "[nltk_data] Downloading package punkt to /home/shreyanbr/nltk_data...\n",
      "[nltk_data]   Unzipping tokenizers/punkt.zip.\n"
     ]
    },
    {
     "data": {
      "text/plain": [
       "True"
      ]
     },
     "execution_count": 2,
     "metadata": {},
     "output_type": "execute_result"
    }
   ],
   "source": [
    "import nltk\n",
    "nltk.download('punkt')"
   ]
  },
  {
   "cell_type": "code",
   "execution_count": 3,
   "id": "bad71f4b-f7f8-4ebf-b5e5-e907e71ba676",
   "metadata": {},
   "outputs": [
    {
     "data": {
      "text/plain": [
       "['Hold',\n",
       " 'fast',\n",
       " 'to',\n",
       " 'dreams',\n",
       " ',',\n",
       " 'for',\n",
       " 'if',\n",
       " 'dreams',\n",
       " 'die',\n",
       " ',',\n",
       " 'life',\n",
       " 'is',\n",
       " 'a',\n",
       " 'broken-winged',\n",
       " 'bird',\n",
       " 'that',\n",
       " 'can',\n",
       " 'not',\n",
       " 'fly']"
      ]
     },
     "execution_count": 3,
     "metadata": {},
     "output_type": "execute_result"
    }
   ],
   "source": [
    "#take a string and divide it into tokens\n",
    "string = 'Hold fast to dreams, for if dreams die, life is a broken-winged bird that cannot fly'\n",
    "tokens = nltk.word_tokenize(string)\n",
    "tokens"
   ]
  },
  {
   "cell_type": "code",
   "execution_count": 4,
   "id": "fd100921-c6a3-4f25-acbe-d0f19f61e6be",
   "metadata": {},
   "outputs": [
    {
     "data": {
      "text/plain": [
       "[('Hold', 'fast'),\n",
       " ('fast', 'to'),\n",
       " ('to', 'dreams'),\n",
       " ('dreams', ','),\n",
       " (',', 'for'),\n",
       " ('for', 'if'),\n",
       " ('if', 'dreams'),\n",
       " ('dreams', 'die'),\n",
       " ('die', ','),\n",
       " (',', 'life'),\n",
       " ('life', 'is'),\n",
       " ('is', 'a'),\n",
       " ('a', 'broken-winged'),\n",
       " ('broken-winged', 'bird'),\n",
       " ('bird', 'that'),\n",
       " ('that', 'can'),\n",
       " ('can', 'not'),\n",
       " ('not', 'fly')]"
      ]
     },
     "execution_count": 4,
     "metadata": {},
     "output_type": "execute_result"
    }
   ],
   "source": [
    "#divide it into bigrams\n",
    "bigram = nltk.bigrams(tokens)\n",
    "str_bigrams = list(bigram)\n",
    "str_bigrams"
   ]
  },
  {
   "cell_type": "code",
   "execution_count": 5,
   "id": "04a7d1b0-5dee-4ad5-b239-9c64760066f6",
   "metadata": {},
   "outputs": [
    {
     "data": {
      "text/plain": [
       "[('Hold', 'fast', 'to'),\n",
       " ('fast', 'to', 'dreams'),\n",
       " ('to', 'dreams', ','),\n",
       " ('dreams', ',', 'for'),\n",
       " (',', 'for', 'if'),\n",
       " ('for', 'if', 'dreams'),\n",
       " ('if', 'dreams', 'die'),\n",
       " ('dreams', 'die', ','),\n",
       " ('die', ',', 'life'),\n",
       " (',', 'life', 'is'),\n",
       " ('life', 'is', 'a'),\n",
       " ('is', 'a', 'broken-winged'),\n",
       " ('a', 'broken-winged', 'bird'),\n",
       " ('broken-winged', 'bird', 'that'),\n",
       " ('bird', 'that', 'can'),\n",
       " ('that', 'can', 'not'),\n",
       " ('can', 'not', 'fly')]"
      ]
     },
     "execution_count": 5,
     "metadata": {},
     "output_type": "execute_result"
    }
   ],
   "source": [
    "#divide it into trigrams\n",
    "trigram = nltk.trigrams(tokens)\n",
    "str_trigrams = list(trigram)\n",
    "str_trigrams"
   ]
  },
  {
   "cell_type": "code",
   "execution_count": 7,
   "id": "f64977e2-0c4f-4827-ba16-12b136945673",
   "metadata": {},
   "outputs": [
    {
     "data": {
      "text/plain": [
       "[('Hold', 'fast', 'to', 'dreams'),\n",
       " ('fast', 'to', 'dreams', ','),\n",
       " ('to', 'dreams', ',', 'for'),\n",
       " ('dreams', ',', 'for', 'if'),\n",
       " (',', 'for', 'if', 'dreams'),\n",
       " ('for', 'if', 'dreams', 'die'),\n",
       " ('if', 'dreams', 'die', ','),\n",
       " ('dreams', 'die', ',', 'life'),\n",
       " ('die', ',', 'life', 'is'),\n",
       " (',', 'life', 'is', 'a'),\n",
       " ('life', 'is', 'a', 'broken-winged'),\n",
       " ('is', 'a', 'broken-winged', 'bird'),\n",
       " ('a', 'broken-winged', 'bird', 'that'),\n",
       " ('broken-winged', 'bird', 'that', 'can'),\n",
       " ('bird', 'that', 'can', 'not'),\n",
       " ('that', 'can', 'not', 'fly')]"
      ]
     },
     "execution_count": 7,
     "metadata": {},
     "output_type": "execute_result"
    }
   ],
   "source": [
    "#divide it into n-grams where n = 1,2,3,4....\n",
    "str_ngrams = list(nltk.ngrams(tokens,4))\n",
    "str_ngrams"
   ]
  },
  {
   "cell_type": "code",
   "execution_count": null,
   "id": "d4d4f8e3-fefc-44d0-a9b9-df51f404d50b",
   "metadata": {},
   "outputs": [],
   "source": []
  }
 ],
 "metadata": {
  "kernelspec": {
   "display_name": "Python 3 (ipykernel)",
   "language": "python",
   "name": "python3"
  },
  "language_info": {
   "codemirror_mode": {
    "name": "ipython",
    "version": 3
   },
   "file_extension": ".py",
   "mimetype": "text/x-python",
   "name": "python",
   "nbconvert_exporter": "python",
   "pygments_lexer": "ipython3",
   "version": "3.11.5"
  }
 },
 "nbformat": 4,
 "nbformat_minor": 5
}
