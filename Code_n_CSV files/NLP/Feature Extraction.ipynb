{
 "cells": [
  {
   "cell_type": "markdown",
   "id": "f2cf22f0-6d0f-428b-98b0-dacb69723898",
   "metadata": {},
   "source": [
    "- NLP is used on textual data. To understand the textual data, first of all, it should be converted into numeric data.\n",
    "- This is **Feature Extraction**. A technique to convert the content into numerical vectors and understand the importance of words or tokens in the given text.\n",
    "- **Vectorizer** is a class in NLP that is useful to perform feature extraction.\n",
    "- There are **2 types of vectorizers**. They are - \n",
    "    - Count Vectorizer\n",
    "    - Tfidf vectorizer"
   ]
  },
  {
   "cell_type": "markdown",
   "id": "cacd9104-de75-4de5-9746-1575bf32f793",
   "metadata": {},
   "source": [
    "### Count Vectorizer\n",
    "- Separates each string into tokens and then counts the number of times each word occurs in the sentence.\n",
    "- This approach is also known as 'bag of words' approach."
   ]
  },
  {
   "cell_type": "code",
   "execution_count": 1,
   "id": "0752fe7f-1aae-4c98-b74a-0f7fffa06fd2",
   "metadata": {},
   "outputs": [
    {
     "name": "stdout",
     "output_type": "stream",
     "text": [
      "['Hey hey hey lets go get lunch today', 'Did you go home?', 'Hey!!! I need a favour']\n"
     ]
    }
   ],
   "source": [
    "sentences = ['Hey hey hey lets go get lunch today', 'Did you go home?', 'Hey!!! I need a favour']\n",
    "print(sentences)"
   ]
  },
  {
   "cell_type": "code",
   "execution_count": 2,
   "id": "6fa2634b-6754-4d58-a28a-341d5f77236d",
   "metadata": {},
   "outputs": [],
   "source": [
    "#create an object to COuntVectorizer class\n",
    "from sklearn.feature_extraction.text import CountVectorizer\n",
    "cv = CountVectorizer()"
   ]
  },
  {
   "cell_type": "code",
   "execution_count": 3,
   "id": "c0076459-a92b-41b7-a7e7-a8dd921ee694",
   "metadata": {
    "editable": true,
    "slideshow": {
     "slide_type": ""
    },
    "tags": []
   },
   "outputs": [
    {
     "name": "stdout",
     "output_type": "stream",
     "text": [
      "  (0, 4)\t3\n",
      "  (0, 6)\t1\n",
      "  (0, 3)\t1\n",
      "  (0, 2)\t1\n",
      "  (0, 7)\t1\n",
      "  (0, 9)\t1\n",
      "  (1, 3)\t1\n",
      "  (1, 0)\t1\n",
      "  (1, 10)\t1\n",
      "  (1, 5)\t1\n",
      "  (2, 4)\t1\n",
      "  (2, 8)\t1\n",
      "  (2, 1)\t1\n"
     ]
    }
   ],
   "source": [
    "s = cv.fit_transform(sentences)\n",
    "print(s)"
   ]
  },
  {
   "cell_type": "markdown",
   "id": "99bcaee4-00d5-401c-a5da-c477d600fc6d",
   "metadata": {},
   "source": [
    "[(x, y) n], where in xth sentence, x = 0,1,2,3... yth word is being repeated for n times.\n",
    "Let me make this more clearer on how it produced this output - \n",
    "\n",
    "After processing with CountVectorizer, the feature names (unique words) extracted from these sentences, excluding common stop words and punctuation, are:"
   ]
  },
  {
   "cell_type": "code",
   "execution_count": 4,
   "id": "cc90f696-2fbc-4601-beca-301405d35b32",
   "metadata": {},
   "outputs": [
    {
     "name": "stdout",
     "output_type": "stream",
     "text": [
      "Feature Names: ['did' 'favour' 'get' 'go' 'hey' 'home' 'lets' 'lunch' 'need' 'today'\n",
      " 'you']\n"
     ]
    }
   ],
   "source": [
    "print(\"Feature Names:\", cv.get_feature_names_out())"
   ]
  },
  {
   "cell_type": "markdown",
   "id": "c5962fad-b73f-427f-b632-a2ed19d0b4a5",
   "metadata": {},
   "source": [
    "The extracted feature names are organised alphabetically automatically. The sparse matrix representation of the sentences, where each row corresponds to a sentence and each column to a feature (word) with its count in the sentence, is:"
   ]
  },
  {
   "cell_type": "code",
   "execution_count": 5,
   "id": "d7ddda5a-4087-44d6-866a-228ba1ad6534",
   "metadata": {},
   "outputs": [
    {
     "name": "stdout",
     "output_type": "stream",
     "text": [
      "Sparse Matrix:\n",
      " [[0 0 1 1 3 0 1 1 0 1 0]\n",
      " [1 0 0 1 0 1 0 0 0 0 1]\n",
      " [0 1 0 0 1 0 0 0 1 0 0]]\n"
     ]
    }
   ],
   "source": [
    "print(\"Sparse Matrix:\\n\", s.toarray())"
   ]
  },
  {
   "cell_type": "markdown",
   "id": "61bc4772-6484-4edb-bd66-8db5d088b11a",
   "metadata": {},
   "source": [
    "Considering the first row in this matrix, i.e. for the first sentence - did, favour,home, need, you = 0, which indicates it does not occur in the first sentence. get, go, lets, lunch, today = 1 and hey=3."
   ]
  },
  {
   "cell_type": "markdown",
   "id": "40e80c0f-4293-48fa-82c4-8515a825544c",
   "metadata": {},
   "source": [
    "### Tfidf Vectorizer"
   ]
  },
  {
   "cell_type": "markdown",
   "id": "af8b8e85-6c9d-4cca-8af1-0f53794a706b",
   "metadata": {},
   "source": [
    "- Alternative to Count Vectorizer\n",
    "- Creates a table from our text or sentences\n",
    "- Does not count how many times a word is repeated.\n",
    "- It calculates term-frequency (TF) inverse document frequency (IDF) value for each word. This TF-IDF is the product of 2 weights : the term frequency and the inverse document frequency."
   ]
  },
  {
   "cell_type": "markdown",
   "id": "49797c59-c9b0-48e5-85f4-5c33fa7626b2",
   "metadata": {},
   "source": [
    "**TF or Term Frequency** represents how often a word occurs **in a single sentence**.\n",
    "- TF value increases when we have several occurences of the same word in the same sentence.\n",
    "- Eg - if a word is repeated many times in a sentence and not found in other sentences then that word is more meaningful and important. Such a word will be given more importance. TF-IDF will allocate a high score for that word."
   ]
  },
  {
   "cell_type": "markdown",
   "id": "895b4ff3-8540-4afb-a2af-45d58da10630",
   "metadata": {},
   "source": [
    "**IDF or Inverse Document Frequency** is another weight representing how common a word is **across many sentences**.\n",
    "- If a word is used in many sentences, then its TF-IDF will decrease.\n",
    "- When several sentences are there, some common words may be repeated in each sentences. Such common words should not be given importance. TF-IDF will allocate low score for such words."
   ]
  },
  {
   "cell_type": "code",
   "execution_count": 6,
   "id": "707a505c-58aa-4faa-ab06-b16642de1a9a",
   "metadata": {},
   "outputs": [
    {
     "name": "stdout",
     "output_type": "stream",
     "text": [
      "['Hey lets get lunch', 'Hey!!! i need a favour']\n"
     ]
    }
   ],
   "source": [
    "sentences = ['Hey lets get lunch', 'Hey!!! i need a favour']\n",
    "print(sentences)"
   ]
  },
  {
   "cell_type": "code",
   "execution_count": 7,
   "id": "91f79bc2-63dd-4886-98f2-39c989b31e3a",
   "metadata": {},
   "outputs": [],
   "source": [
    "#lets create an object to the TfidfVectorizer class\n",
    "from sklearn.feature_extraction.text import TfidfVectorizer\n",
    "tv = TfidfVectorizer()"
   ]
  },
  {
   "cell_type": "code",
   "execution_count": 8,
   "id": "095da587-9998-4172-adfb-bbf4bf581dae",
   "metadata": {},
   "outputs": [
    {
     "name": "stdout",
     "output_type": "stream",
     "text": [
      "  (0, 4)\t0.534046329052269\n",
      "  (0, 1)\t0.534046329052269\n",
      "  (0, 3)\t0.534046329052269\n",
      "  (0, 2)\t0.37997836159100784\n",
      "  (1, 0)\t0.6316672017376245\n",
      "  (1, 5)\t0.6316672017376245\n",
      "  (1, 2)\t0.4494364165239821\n"
     ]
    }
   ],
   "source": [
    "s = tv.fit_transform(sentences)\n",
    "print(s)"
   ]
  },
  {
   "cell_type": "code",
   "execution_count": 9,
   "id": "de6a2ab7-8474-46e1-99d0-588639cd6ac0",
   "metadata": {},
   "outputs": [
    {
     "name": "stdout",
     "output_type": "stream",
     "text": [
      "Feature Names: ['favour' 'get' 'hey' 'lets' 'lunch' 'need']\n"
     ]
    }
   ],
   "source": [
    "# Printing the feature (word) names and the sparse matrix in a dense form\n",
    "print(\"Feature Names:\", tv.get_feature_names_out())"
   ]
  },
  {
   "cell_type": "code",
   "execution_count": 10,
   "id": "443abaf7-47a2-4f55-bb86-1c0c39e2f030",
   "metadata": {},
   "outputs": [
    {
     "name": "stdout",
     "output_type": "stream",
     "text": [
      "TF-IDF Matrix:\n",
      " [[0.         0.53404633 0.37997836 0.53404633 0.53404633 0.        ]\n",
      " [0.6316672  0.         0.44943642 0.         0.         0.6316672 ]]\n"
     ]
    }
   ],
   "source": [
    "print(\"TF-IDF Matrix:\\n\", s.toarray())"
   ]
  },
  {
   "cell_type": "markdown",
   "id": "0e6fdd28-9e97-42dc-9e22-a741170d5cdb",
   "metadata": {},
   "source": [
    "In this matrix:\n",
    "- The first row represents the TF-IDF values for each word in the first sentence. Words not present in the sentence have a TF-IDF score of 0.\n",
    "- The second row represents the TF-IDF values for the second sentence."
   ]
  }
 ],
 "metadata": {
  "kernelspec": {
   "display_name": "Python 3 (ipykernel)",
   "language": "python",
   "name": "python3"
  },
  "language_info": {
   "codemirror_mode": {
    "name": "ipython",
    "version": 3
   },
   "file_extension": ".py",
   "mimetype": "text/x-python",
   "name": "python",
   "nbconvert_exporter": "python",
   "pygments_lexer": "ipython3",
   "version": "3.11.5"
  }
 },
 "nbformat": 4,
 "nbformat_minor": 5
}
