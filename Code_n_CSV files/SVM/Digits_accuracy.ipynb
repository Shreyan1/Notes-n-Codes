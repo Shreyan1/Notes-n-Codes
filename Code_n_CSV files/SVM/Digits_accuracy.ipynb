{
 "cells": [
  {
   "cell_type": "markdown",
   "id": "28ccc048-d406-473e-a7fa-f898c1e02238",
   "metadata": {},
   "source": [
    "### **Read data from hand written digits data set. Apply SVM on it and analyse data.** \n",
    "### Observe the accuracy of the model with different kernels. Then predict the digits from the images of the hadnwritten digits."
   ]
  },
  {
   "cell_type": "code",
   "execution_count": 1,
   "id": "137eb984-db32-4a52-b1ab-1fa7be92dbb7",
   "metadata": {},
   "outputs": [],
   "source": [
    "#handwritten digits classification using svm\n",
    "import matplotlib.pyplot as plt\n",
    "from sklearn.datasets import load_digits\n",
    "digits = load_digits()"
   ]
  },
  {
   "cell_type": "code",
   "execution_count": 2,
   "id": "087adef8-0d57-474a-8452-1eae98fb94df",
   "metadata": {},
   "outputs": [
    {
     "data": {
      "text/plain": [
       "['DESCR', 'data', 'feature_names', 'frame', 'images', 'target', 'target_names']"
      ]
     },
     "execution_count": 2,
     "metadata": {},
     "output_type": "execute_result"
    }
   ],
   "source": [
    "#display the attributes of the digts object\n",
    "dir(digits)"
   ]
  },
  {
   "cell_type": "code",
   "execution_count": 3,
   "id": "e0a7c0f1-d42f-4a46-b8a9-2ad8f497da21",
   "metadata": {},
   "outputs": [
    {
     "data": {
      "text/plain": [
       "array([ 0.,  0.,  5., 13.,  9.,  1.,  0.,  0.,  0.,  0., 13., 15., 10.,\n",
       "       15.,  5.,  0.,  0.,  3., 15.,  2.,  0., 11.,  8.,  0.,  0.,  4.,\n",
       "       12.,  0.,  0.,  8.,  8.,  0.,  0.,  5.,  8.,  0.,  0.,  9.,  8.,\n",
       "        0.,  0.,  4., 11.,  0.,  1., 12.,  7.,  0.,  0.,  2., 14.,  5.,\n",
       "       10., 12.,  0.,  0.,  0.,  0.,  6., 13., 10.,  0.,  0.,  0.])"
      ]
     },
     "execution_count": 3,
     "metadata": {},
     "output_type": "execute_result"
    }
   ],
   "source": [
    "#display the data of image zero - showsa an array\n",
    "digits.data[0]"
   ]
  },
  {
   "cell_type": "markdown",
   "id": "7d484ea2-54ab-4447-b3e8-97b8b369bbaa",
   "metadata": {},
   "source": [
    "#### Since every image is stored in the form of 8x8 pixels = 64 pixels, each pixel value is available in the array shown above. This is the array of the image 0.\n",
    "\n",
    "Let us now diplay image using matsow() function as - "
   ]
  },
  {
   "cell_type": "code",
   "execution_count": 4,
   "id": "b72246d8-2452-40f7-b836-395c12adce75",
   "metadata": {},
   "outputs": [
    {
     "data": {
      "text/plain": [
       "<matplotlib.image.AxesImage at 0x7f4e32d97f50>"
      ]
     },
     "execution_count": 4,
     "metadata": {},
     "output_type": "execute_result"
    },
    {
     "data": {
      "image/png": "[encoded data removed]",
      "text/plain": [
       "<Figure size 480x480 with 1 Axes>"
      ]
     },
     "metadata": {},
     "output_type": "display_data"
    }
   ],
   "source": [
    "#display the image zero\n",
    "plt.matshow(digits.images[0])"
   ]
  },
  {
   "cell_type": "code",
   "execution_count": 5,
   "id": "07026b00-d149-4530-bae1-2bc10e00964b",
   "metadata": {},
   "outputs": [
    {
     "data": {
      "text/plain": [
       "0"
      ]
     },
     "execution_count": 5,
     "metadata": {},
     "output_type": "execute_result"
    }
   ],
   "source": [
    "#display target or original digir - shows 0\n",
    "digits.target[0]"
   ]
  },
  {
   "cell_type": "code",
   "execution_count": 6,
   "id": "dfa1f4a3-ad3d-4b56-a0f3-59b5e8c8190e",
   "metadata": {},
   "outputs": [],
   "source": [
    "#let us split the digts.data into train and test data\n",
    "#take the digtits.data as independent avrs and digts.target as target var\n",
    "from sklearn.model_selection import train_test_split\n",
    "x_train, x_test, y_train, y_test = train_test_split(digits.data, digits.target, test_size=0.2)"
   ]
  },
  {
   "cell_type": "markdown",
   "id": "18c3da2d-dcfa-42c6-9cde-977ac53d7d2f",
   "metadata": {},
   "source": [
    "### **Let us create an object to SVC (Support Vector Classifier) class and train the data :**"
   ]
  },
  {
   "cell_type": "code",
   "execution_count": 7,
   "id": "d3cc2a29-b035-4089-9472-4e0e8bda2a9f",
   "metadata": {},
   "outputs": [],
   "source": [
    "#create SVC class object and train it\n",
    "from sklearn.svm import SVC"
   ]
  },
  {
   "cell_type": "code",
   "execution_count": 8,
   "id": "e4ffd18d-eaf0-4eac-99be-985cb2b9f2f0",
   "metadata": {},
   "outputs": [
    {
     "data": {
      "text/plain": [
       "0.9861111111111112"
      ]
     },
     "execution_count": 8,
     "metadata": {},
     "output_type": "execute_result"
    }
   ],
   "source": [
    "#C=1.0, kernel ='rbf', gamma ='scale'\n",
    "model = SVC()\n",
    "model.fit(x_train, y_train)\n",
    "model.score(x_test, y_test)"
   ]
  },
  {
   "cell_type": "code",
   "execution_count": 9,
   "id": "58f4f1fd-4179-4a2a-aea0-d0b13ed107af",
   "metadata": {},
   "outputs": [
    {
     "data": {
      "text/plain": [
       "0.9861111111111112"
      ]
     },
     "execution_count": 9,
     "metadata": {},
     "output_type": "execute_result"
    }
   ],
   "source": [
    "#C=1.0, kernel ='linear', gamma ='scale'\n",
    "model = SVC(kernel='linear')\n",
    "model.fit(x_train, y_train)\n",
    "model.score(x_test, y_test)"
   ]
  },
  {
   "cell_type": "code",
   "execution_count": 10,
   "id": "289db75c-3f1b-4230-98cc-54cd05b75be8",
   "metadata": {},
   "outputs": [
    {
     "data": {
      "text/plain": [
       "0.9055555555555556"
      ]
     },
     "execution_count": 10,
     "metadata": {},
     "output_type": "execute_result"
    }
   ],
   "source": [
    "#C=1.0, kernel ='sigmoid', gamma ='scale'\n",
    "model = SVC(kernel='sigmoid')\n",
    "model.fit(x_train, y_train)\n",
    "model.score(x_test, y_test)"
   ]
  },
  {
   "cell_type": "code",
   "execution_count": 11,
   "id": "b055756b-6d15-4c8d-bef9-163863816521",
   "metadata": {},
   "outputs": [
    {
     "data": {
      "text/plain": [
       "0.9944444444444445"
      ]
     },
     "execution_count": 11,
     "metadata": {},
     "output_type": "execute_result"
    }
   ],
   "source": [
    "#C=1.0, kernel ='poly', gamma ='scale'\n",
    "model = SVC(kernel='poly')\n",
    "model.fit(x_train, y_train)\n",
    "model.score(x_test, y_test)"
   ]
  },
  {
   "cell_type": "code",
   "execution_count": 12,
   "id": "0f12024f-a552-400f-8813-52aa27923e53",
   "metadata": {},
   "outputs": [
    {
     "data": {
      "text/plain": [
       "0.9944444444444445"
      ]
     },
     "execution_count": 12,
     "metadata": {},
     "output_type": "execute_result"
    }
   ],
   "source": [
    "#C=1.0, kernel ='poly', gamma ='auto'\n",
    "model = SVC(kernel='poly', gamma ='auto')\n",
    "model.fit(x_train, y_train)\n",
    "model.score(x_test, y_test)"
   ]
  },
  {
   "cell_type": "code",
   "execution_count": 13,
   "id": "80b4ad66-58ae-4374-92ab-de8b184f92a0",
   "metadata": {},
   "outputs": [
    {
     "data": {
      "text/plain": [
       "array([ 0.,  0.,  0., 11.,  8.,  0.,  0.,  0.,  0.,  0.,  6., 15.,  2.,\n",
       "        0.,  0.,  0.,  0.,  0., 13.,  8.,  0.,  4.,  7.,  0.,  0.,  5.,\n",
       "       16.,  2.,  2., 13.,  9.,  0.,  0., 10., 15., 12., 15., 14.,  1.,\n",
       "        0.,  0.,  6., 16.,  9., 16.,  5.,  0.,  0.,  0.,  0.,  0.,  6.,\n",
       "       14.,  1.,  0.,  0.,  0.,  0.,  0., 14.,  7.,  0.,  0.,  0.])"
      ]
     },
     "execution_count": 13,
     "metadata": {},
     "output_type": "execute_result"
    }
   ],
   "source": [
    "#take a sample test from test data - take 100th row\n",
    "x_test[100]"
   ]
  },
  {
   "cell_type": "code",
   "execution_count": 14,
   "id": "97ed2415-a1e2-44e6-b23f-b4cd332a36dd",
   "metadata": {},
   "outputs": [
    {
     "data": {
      "text/plain": [
       "array([4])"
      ]
     },
     "execution_count": 14,
     "metadata": {},
     "output_type": "execute_result"
    }
   ],
   "source": [
    "#predict which digit it is\n",
    "model.predict([x_test[100]])"
   ]
  },
  {
   "cell_type": "code",
   "execution_count": 15,
   "id": "fa0e21ad-7ad5-47c8-b44d-0257ca4c1980",
   "metadata": {},
   "outputs": [
    {
     "data": {
      "text/plain": [
       "4"
      ]
     },
     "execution_count": 15,
     "metadata": {},
     "output_type": "execute_result"
    }
   ],
   "source": [
    "#compare it with actual digit - it is\n",
    "y_test[100]"
   ]
  },
  {
   "cell_type": "markdown",
   "id": "0e320596-ae0c-41a6-a722-8f406abdcdfc",
   "metadata": {},
   "source": [
    "#### **Another way of predicting the digits directly from the datasets, let us take the 67th row in the digits object**"
   ]
  },
  {
   "cell_type": "code",
   "execution_count": 16,
   "id": "b128bc08-4932-469a-a47b-f6b1cae1615b",
   "metadata": {},
   "outputs": [
    {
     "data": {
      "text/plain": [
       "array([ 0.,  0.,  5., 14.,  0.,  0.,  0.,  0.,  0.,  0., 12.,  9.,  0.,\n",
       "        0.,  0.,  0.,  0.,  0., 15.,  3.,  0.,  0.,  0.,  0.,  0.,  1.,\n",
       "       16.,  0.,  0.,  0.,  0.,  0.,  0.,  1., 16.,  2.,  7.,  4.,  0.,\n",
       "        0.,  0.,  3., 16., 16., 16., 16.,  9.,  0.,  0.,  0., 15., 15.,\n",
       "        4., 10., 16.,  0.,  0.,  0.,  4., 14., 16., 12.,  7.,  0.])"
      ]
     },
     "execution_count": 16,
     "metadata": {},
     "output_type": "execute_result"
    }
   ],
   "source": [
    "digits.data[67]"
   ]
  },
  {
   "cell_type": "code",
   "execution_count": 17,
   "id": "84aca602-0fd5-4387-9781-71ac77812c2c",
   "metadata": {},
   "outputs": [
    {
     "data": {
      "text/plain": [
       "<matplotlib.image.AxesImage at 0x7f4e32d7a210>"
      ]
     },
     "execution_count": 17,
     "metadata": {},
     "output_type": "execute_result"
    },
    {
     "data": {
      "image/png": "[encoded data removed]",
      "text/plain": [
       "<Figure size 480x480 with 1 Axes>"
      ]
     },
     "metadata": {},
     "output_type": "display_data"
    }
   ],
   "source": [
    "#this is the 67th image, looks like 6\n",
    "plt.matshow(digits.images[67])"
   ]
  },
  {
   "cell_type": "code",
   "execution_count": 18,
   "id": "c486933e-631c-44be-a681-e482b4f6cbd4",
   "metadata": {},
   "outputs": [
    {
     "data": {
      "text/plain": [
       "array([6])"
      ]
     },
     "execution_count": 18,
     "metadata": {},
     "output_type": "execute_result"
    }
   ],
   "source": [
    "#let us predict which image this is\n",
    "model.predict([digits.data[67]])"
   ]
  },
  {
   "cell_type": "code",
   "execution_count": 19,
   "id": "7f324fe2-718a-4b06-b826-cc221a2ef629",
   "metadata": {},
   "outputs": [
    {
     "data": {
      "text/plain": [
       "6"
      ]
     },
     "execution_count": 19,
     "metadata": {},
     "output_type": "execute_result"
    }
   ],
   "source": [
    "#compare it with the actual target\n",
    "digits.target[67]"
   ]
  }
 ],
 "metadata": {
  "kernelspec": {
   "display_name": "Python 3 (ipykernel)",
   "language": "python",
   "name": "python3"
  },
  "language_info": {
   "codemirror_mode": {
    "name": "ipython",
    "version": 3
   },
   "file_extension": ".py",
   "mimetype": "text/x-python",
   "name": "python",
   "nbconvert_exporter": "python",
   "pygments_lexer": "ipython3",
   "version": "3.11.5"
  }
 },
 "nbformat": 4,
 "nbformat_minor": 5
}
