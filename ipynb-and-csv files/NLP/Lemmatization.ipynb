{
 "cells": [
  {
   "cell_type": "markdown",
   "id": "2d646d41-64e4-43eb-bfcb-c8700b758588",
   "metadata": {},
   "source": [
    "- Stemming cuts the word to give the root word but it does not do so in many cases. This is where lemmatization comes in.\n",
    "- 'Lemmatization' groups together different inflected forms of the same word called 'lemma'.\n",
    "- eg: 'gone, going, went' can be lemmatized into the same word - 'go'. Here 'go' is the lemma.\n",
    "- To do lemmatization, we need the total English dictionary to be available."
   ]
  },
  {
   "cell_type": "code",
   "execution_count": 1,
   "id": "0acdba1a-eefa-40bf-a1f3-382dc61197fb",
   "metadata": {},
   "outputs": [
    {
     "name": "stderr",
     "output_type": "stream",
     "text": [
      "[nltk_data] Downloading package wordnet to\n",
      "[nltk_data]     /home/shreyanbr/nltk_data...\n",
      "[nltk_data]   Package wordnet is already up-to-date!\n"
     ]
    },
    {
     "data": {
      "text/plain": [
       "True"
      ]
     },
     "execution_count": 1,
     "metadata": {},
     "output_type": "execute_result"
    }
   ],
   "source": [
    "#download the dictionary 'wordnet'\n",
    "import nltk\n",
    "nltk.download('wordnet')"
   ]
  },
  {
   "cell_type": "code",
   "execution_count": 2,
   "id": "ad4cc409-eeee-46e6-99fe-7527c55a45a5",
   "metadata": {},
   "outputs": [],
   "source": [
    "from nltk.stem import wordnet\n",
    "from nltk.stem import WordNetLemmatizer\n",
    "wnl = WordNetLemmatizer()"
   ]
  },
  {
   "cell_type": "code",
   "execution_count": 3,
   "id": "ceb3e078-07bb-40c6-9738-bb162a31792e",
   "metadata": {},
   "outputs": [
    {
     "data": {
      "text/plain": [
       "'corpus'"
      ]
     },
     "execution_count": 3,
     "metadata": {},
     "output_type": "execute_result"
    }
   ],
   "source": [
    "#lemmatize the word\n",
    "wnl.lemmatize('corpora')"
   ]
  },
  {
   "cell_type": "code",
   "execution_count": 4,
   "id": "41622138-1c6b-4e1e-ad68-b73e863bb6e4",
   "metadata": {},
   "outputs": [
    {
     "name": "stdout",
     "output_type": "stream",
     "text": [
      "give : give\n",
      "giving : giving\n",
      "given : given\n",
      "gave : gave\n"
     ]
    }
   ],
   "source": [
    "#lemmatize a list of words\n",
    "words = ['give', 'giving', 'given', 'gave']\n",
    "for w in words:\n",
    "    print(w, ':', wnl.lemmatize(w))"
   ]
  },
  {
   "cell_type": "markdown",
   "id": "62c77aeb-2a4f-49be-b256-64ab53fdc9fc",
   "metadata": {},
   "source": [
    "Hmm... it didn't work as expected again ! It is considering all the above words as unrelated and hence giving same word as root. But if it knows that all the above words are different verb forms of the root 'give', it would have been the correct output. Let's add an attribute here for this -"
   ]
  },
  {
   "cell_type": "code",
   "execution_count": 5,
   "id": "38a7cae9-7ca3-49b9-88a4-ee39065e66e4",
   "metadata": {},
   "outputs": [
    {
     "name": "stdout",
     "output_type": "stream",
     "text": [
      "give : give\n",
      "giving : give\n",
      "given : give\n",
      "gave : give\n"
     ]
    }
   ],
   "source": [
    "for w in words:\n",
    "    print(w, ':', wnl.lemmatize(w, pos='v'))\n",
    "#here pos(parts of speech) is being specified as a 'verb'. Hence the lemmatizer should find a root verb form and gives an output."
   ]
  },
  {
   "cell_type": "markdown",
   "id": "d44ded10-db4d-4d36-bf6c-812d066fc720",
   "metadata": {},
   "source": [
    "_Viola !_"
   ]
  }
 ],
 "metadata": {
  "kernelspec": {
   "display_name": "Python 3 (ipykernel)",
   "language": "python",
   "name": "python3"
  },
  "language_info": {
   "codemirror_mode": {
    "name": "ipython",
    "version": 3
   },
   "file_extension": ".py",
   "mimetype": "text/x-python",
   "name": "python",
   "nbconvert_exporter": "python",
   "pygments_lexer": "ipython3",
   "version": "3.11.5"
  }
 },
 "nbformat": 4,
 "nbformat_minor": 5
}
