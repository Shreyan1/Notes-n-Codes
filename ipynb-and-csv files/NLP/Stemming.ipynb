{
 "cells": [
  {
   "cell_type": "markdown",
   "id": "3bf0b635-e498-40a7-a579-b56f98fbac00",
   "metadata": {},
   "source": [
    "- Normalising the words into their base form or root form is called 'stemming'\n",
    "- eg: affection, affects, affected, affectation have the same root words as 'affect'. So affect is the stem here.\n",
    "- There are various types of stemmers  eg - Porter Stemmer and Lancaster Stemmer\n",
    "\n",
    "Let's see if we get what we are thinking through this stemming process."
   ]
  },
  {
   "cell_type": "code",
   "execution_count": 1,
   "id": "001f851c-5f49-4f39-82c5-cf274a5a8c78",
   "metadata": {},
   "outputs": [],
   "source": [
    "#using Porter Stemmer here\n",
    "from nltk.stem import PorterStemmer\n",
    "pst = PorterStemmer()"
   ]
  },
  {
   "cell_type": "code",
   "execution_count": 2,
   "id": "cce77936-9558-4c92-8d77-0efc05775e80",
   "metadata": {},
   "outputs": [
    {
     "data": {
      "text/plain": [
       "'have'"
      ]
     },
     "execution_count": 2,
     "metadata": {},
     "output_type": "execute_result"
    }
   ],
   "source": [
    "#find root word for 'having'\n",
    "pst.stem('having')"
   ]
  },
  {
   "cell_type": "code",
   "execution_count": 3,
   "id": "1e08b94c-ae46-445d-8dbc-13e730624014",
   "metadata": {},
   "outputs": [
    {
     "name": "stdout",
     "output_type": "stream",
     "text": [
      "give : give\n",
      "giving : give\n",
      "given : given\n",
      "gave : gave\n"
     ]
    }
   ],
   "source": [
    "#finding the stem for a list of words\n",
    "words = ['give', 'giving', 'given', 'gave']\n",
    "for w in words:\n",
    "    print(w, ':', pst.stem(w))"
   ]
  },
  {
   "cell_type": "markdown",
   "id": "f0f93be9-7130-42e0-bea0-c2f8709ca172",
   "metadata": {},
   "source": [
    "This should've showed 'give' as a root word for all but didn't. Hmmm... let's use a Lancaster Stemmer to check another way if it shows the root word as we are thinking it to be."
   ]
  },
  {
   "cell_type": "code",
   "execution_count": 4,
   "id": "dd1e02a5-f27e-429a-8b01-8ddebcf78954",
   "metadata": {},
   "outputs": [],
   "source": [
    "#using LancasterStemmer here\n",
    "from nltk.stem import LancasterStemmer\n",
    "lst = LancasterStemmer()"
   ]
  },
  {
   "cell_type": "code",
   "execution_count": 5,
   "id": "4cd8a0d6-7185-44be-a691-d87a48e7d94e",
   "metadata": {},
   "outputs": [
    {
     "name": "stdout",
     "output_type": "stream",
     "text": [
      "give : giv\n",
      "giving : giv\n",
      "given : giv\n",
      "gave : gav\n"
     ]
    }
   ],
   "source": [
    "for w in words:\n",
    "    print(w,':', lst.stem(w))"
   ]
  },
  {
   "cell_type": "markdown",
   "id": "0b52902d-9b7b-4a6f-bbf0-a31f6f408909",
   "metadata": {},
   "source": [
    "This stemmer is simply chopping off words and giving 'giv' or 'gav' as the stem word which are also not the ones we are looking for.\n",
    "\n",
    "We have to use a different approach now... "
   ]
  }
 ],
 "metadata": {
  "kernelspec": {
   "display_name": "Python 3 (ipykernel)",
   "language": "python",
   "name": "python3"
  },
  "language_info": {
   "codemirror_mode": {
    "name": "ipython",
    "version": 3
   },
   "file_extension": ".py",
   "mimetype": "text/x-python",
   "name": "python",
   "nbconvert_exporter": "python",
   "pygments_lexer": "ipython3",
   "version": "3.11.5"
  }
 },
 "nbformat": 4,
 "nbformat_minor": 5
}
