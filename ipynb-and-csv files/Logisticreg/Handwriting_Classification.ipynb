{
 "cells": [
  {
   "cell_type": "markdown",
   "id": "4c8d5bc7-e361-47eb-ae7a-c2a1a0a3fafc",
   "metadata": {},
   "source": [
    "### Let us use Logistic Regression Machine Learning model to classify the hand written digits. \n",
    "1. First train the model and then apply the model on sample images.\n",
    "2. Also draw Confusion Matrix to know where our model was successful nand where it failed"
   ]
  },
  {
   "cell_type": "code",
   "execution_count": 1,
   "id": "e6330abe-75e3-4dec-b345-4407fee2424a",
   "metadata": {},
   "outputs": [],
   "source": [
    "from sklearn.datasets import load_digits\n",
    "from sklearn.model_selection import train_test_split\n",
    "from sklearn.linear_model import LogisticRegression\n",
    "from sklearn.metrics import confusion_matrix\n",
    "\n",
    "import matplotlib.pyplot as plt\n",
    "import seaborn as sns\n",
    "\n",
    "import warnings\n",
    "warnings.filterwarnings('ignore')"
   ]
  },
  {
   "cell_type": "code",
   "execution_count": 2,
   "id": "2d091644-e933-474c-8222-d321a9bac8da",
   "metadata": {},
   "outputs": [],
   "source": [
    "digits = load_digits()"
   ]
  },
  {
   "cell_type": "code",
   "execution_count": 3,
   "id": "ef3a05e0-c9a4-4fd0-8e96-85457697ad4f",
   "metadata": {},
   "outputs": [
    {
     "data": {
      "text/plain": [
       "['DESCR', 'data', 'feature_names', 'frame', 'images', 'target', 'target_names']"
      ]
     },
     "execution_count": 3,
     "metadata": {},
     "output_type": "execute_result"
    }
   ],
   "source": [
    "#display the names of the cols in Bunch Object\n",
    "dir(digits)"
   ]
  },
  {
   "cell_type": "code",
   "execution_count": 4,
   "id": "9dc17426-a778-4edb-841f-3b89b6e9f0d2",
   "metadata": {},
   "outputs": [
    {
     "data": {
      "text/plain": [
       "(1797, 64)"
      ]
     },
     "execution_count": 4,
     "metadata": {},
     "output_type": "execute_result"
    }
   ],
   "source": [
    "#display the number of rows and cols in the datsets\n",
    "digits.data.shape"
   ]
  },
  {
   "cell_type": "markdown",
   "id": "6167fd3c-0f60-41a3-8d8f-42dccbc8296c",
   "metadata": {},
   "source": [
    "#### We shall be using the following :\n",
    "- data[] is representation of array of the image\n",
    "- images[] is the corresponding image\n",
    "- target[] is the actual digit"
   ]
  },
  {
   "cell_type": "markdown",
   "id": "73c49e25-0365-4aea-af94-7d57ec817684",
   "metadata": {},
   "source": [
    "##### To view the data related to an image, we should use digits.data[]. For example to view the data corresponding to **image 8**, we can use **digits.data[8]**"
   ]
  },
  {
   "cell_type": "code",
   "execution_count": 5,
   "id": "938eb6d8-a33c-458a-a133-bf6999be052b",
   "metadata": {},
   "outputs": [
    {
     "data": {
      "text/plain": [
       "array([ 0.,  0.,  9., 14.,  8.,  1.,  0.,  0.,  0.,  0., 12., 14., 14.,\n",
       "       12.,  0.,  0.,  0.,  0.,  9., 10.,  0., 15.,  4.,  0.,  0.,  0.,\n",
       "        3., 16., 12., 14.,  2.,  0.,  0.,  0.,  4., 16., 16.,  2.,  0.,\n",
       "        0.,  0.,  3., 16.,  8., 10., 13.,  2.,  0.,  0.,  1., 15.,  1.,\n",
       "        3., 16.,  8.,  0.,  0.,  0., 11., 16., 15., 11.,  1.,  0.])"
      ]
     },
     "execution_count": 5,
     "metadata": {},
     "output_type": "execute_result"
    }
   ],
   "source": [
    "#to display 8th image array\n",
    "digits.data[8]"
   ]
  },
  {
   "cell_type": "markdown",
   "id": "cab0e8ff-5c89-4b2d-82a0-bb0ac62d0c2e",
   "metadata": {},
   "source": [
    "#### When the image '8' was scanned and converted into an array of values, the above array is formed."
   ]
  },
  {
   "cell_type": "code",
   "execution_count": 6,
   "id": "83b8454e-fe50-4ba6-87fc-62e9eedc54c3",
   "metadata": {},
   "outputs": [
    {
     "data": {
      "text/plain": [
       "<matplotlib.image.AxesImage at 0x7f7c153b3750>"
      ]
     },
     "execution_count": 6,
     "metadata": {},
     "output_type": "execute_result"
    },
    {
     "data": {
      "text/plain": [
       "<Figure size 640x480 with 0 Axes>"
      ]
     },
     "metadata": {},
     "output_type": "display_data"
    },
    {
     "data": {
      "image/png": "[encoded data removed]",
      "text/plain": [
       "<Figure size 480x480 with 1 Axes>"
      ]
     },
     "metadata": {},
     "output_type": "display_data"
    }
   ],
   "source": [
    "plt.gray() #uses gray colour to show image\n",
    "plt.matshow(digits.images[8]) #display 8th image"
   ]
  },
  {
   "cell_type": "markdown",
   "id": "d0977f03-f7d2-41f4-8192-def919ca5746",
   "metadata": {},
   "source": [
    "**The greater is the number the more is the block whiter in shade, so 0 is black.**"
   ]
  },
  {
   "cell_type": "code",
   "execution_count": 7,
   "id": "ede74aef-019b-4a72-8694-f7bb9fb68e6f",
   "metadata": {},
   "outputs": [
    {
     "data": {
      "text/plain": [
       "8"
      ]
     },
     "execution_count": 7,
     "metadata": {},
     "output_type": "execute_result"
    }
   ],
   "source": [
    "#let us see the correct numeric digit of the above image\n",
    "digits.target[8]"
   ]
  },
  {
   "cell_type": "markdown",
   "id": "e3ec870a-9fe9-46b1-b96e-f1b3fa025505",
   "metadata": {},
   "source": [
    "#### We can use the data and target for training the model, let us split the training and testing data -\n",
    "- x_train = array of handwritten digit\n",
    "- y_train = digit\n",
    "\n",
    "Let us take a default 70-30 train-test split to work with."
   ]
  },
  {
   "cell_type": "code",
   "execution_count": 8,
   "id": "46ef373b-b39e-4638-b6c7-477f3ab516b6",
   "metadata": {},
   "outputs": [],
   "source": [
    "x_train, x_test, y_train, y_test = train_test_split(digits.data, digits.target, test_size=0.3)"
   ]
  },
  {
   "cell_type": "code",
   "execution_count": 9,
   "id": "2a96bd2b-52a1-4a66-97de-483847604bc9",
   "metadata": {},
   "outputs": [
    {
     "data": {
      "text/html": [
       "<style>#sk-container-id-1 {color: black;background-color: white;}#sk-container-id-1 pre{padding: 0;}#sk-container-id-1 div.sk-toggleable {background-color: white;}#sk-container-id-1 label.sk-toggleable__label {cursor: pointer;display: block;width: 100%;margin-bottom: 0;padding: 0.3em;box-sizing: border-box;text-align: center;}#sk-container-id-1 label.sk-toggleable__label-arrow:before {content: \"▸\";float: left;margin-right: 0.25em;color: #696969;}#sk-container-id-1 label.sk-toggleable__label-arrow:hover:before {color: black;}#sk-container-id-1 div.sk-estimator:hover label.sk-toggleable__label-arrow:before {color: black;}#sk-container-id-1 div.sk-toggleable__content {max-height: 0;max-width: 0;overflow: hidden;text-align: left;background-color: #f0f8ff;}#sk-container-id-1 div.sk-toggleable__content pre {margin: 0.2em;color: black;border-radius: 0.25em;background-color: #f0f8ff;}#sk-container-id-1 input.sk-toggleable__control:checked~div.sk-toggleable__content {max-height: 200px;max-width: 100%;overflow: auto;}#sk-container-id-1 input.sk-toggleable__control:checked~label.sk-toggleable__label-arrow:before {content: \"▾\";}#sk-container-id-1 div.sk-estimator input.sk-toggleable__control:checked~label.sk-toggleable__label {background-color: #d4ebff;}#sk-container-id-1 div.sk-label input.sk-toggleable__control:checked~label.sk-toggleable__label {background-color: #d4ebff;}#sk-container-id-1 input.sk-hidden--visually {border: 0;clip: rect(1px 1px 1px 1px);clip: rect(1px, 1px, 1px, 1px);height: 1px;margin: -1px;overflow: hidden;padding: 0;position: absolute;width: 1px;}#sk-container-id-1 div.sk-estimator {font-family: monospace;background-color: #f0f8ff;border: 1px dotted black;border-radius: 0.25em;box-sizing: border-box;margin-bottom: 0.5em;}#sk-container-id-1 div.sk-estimator:hover {background-color: #d4ebff;}#sk-container-id-1 div.sk-parallel-item::after {content: \"\";width: 100%;border-bottom: 1px solid gray;flex-grow: 1;}#sk-container-id-1 div.sk-label:hover label.sk-toggleable__label {background-color: #d4ebff;}#sk-container-id-1 div.sk-serial::before {content: \"\";position: absolute;border-left: 1px solid gray;box-sizing: border-box;top: 0;bottom: 0;left: 50%;z-index: 0;}#sk-container-id-1 div.sk-serial {display: flex;flex-direction: column;align-items: center;background-color: white;padding-right: 0.2em;padding-left: 0.2em;position: relative;}#sk-container-id-1 div.sk-item {position: relative;z-index: 1;}#sk-container-id-1 div.sk-parallel {display: flex;align-items: stretch;justify-content: center;background-color: white;position: relative;}#sk-container-id-1 div.sk-item::before, #sk-container-id-1 div.sk-parallel-item::before {content: \"\";position: absolute;border-left: 1px solid gray;box-sizing: border-box;top: 0;bottom: 0;left: 50%;z-index: -1;}#sk-container-id-1 div.sk-parallel-item {display: flex;flex-direction: column;z-index: 1;position: relative;background-color: white;}#sk-container-id-1 div.sk-parallel-item:first-child::after {align-self: flex-end;width: 50%;}#sk-container-id-1 div.sk-parallel-item:last-child::after {align-self: flex-start;width: 50%;}#sk-container-id-1 div.sk-parallel-item:only-child::after {width: 0;}#sk-container-id-1 div.sk-dashed-wrapped {border: 1px dashed gray;margin: 0 0.4em 0.5em 0.4em;box-sizing: border-box;padding-bottom: 0.4em;background-color: white;}#sk-container-id-1 div.sk-label label {font-family: monospace;font-weight: bold;display: inline-block;line-height: 1.2em;}#sk-container-id-1 div.sk-label-container {text-align: center;}#sk-container-id-1 div.sk-container {/* jupyter's `normalize.less` sets `[hidden] { display: none; }` but bootstrap.min.css set `[hidden] { display: none !important; }` so we also need the `!important` here to be able to override the default hidden behavior on the sphinx rendered scikit-learn.org. See: https://github.com/scikit-learn/scikit-learn/issues/21755 */display: inline-block !important;position: relative;}#sk-container-id-1 div.sk-text-repr-fallback {display: none;}</style><div id=\"sk-container-id-1\" class=\"sk-top-container\"><div class=\"sk-text-repr-fallback\"><pre>LogisticRegression()</pre><b>In a Jupyter environment, please rerun this cell to show the HTML representation or trust the notebook. <br />On GitHub, the HTML representation is unable to render, please try loading this page with nbviewer.org.</b></div><div class=\"sk-container\" hidden><div class=\"sk-item\"><div class=\"sk-estimator sk-toggleable\"><input class=\"sk-toggleable__control sk-hidden--visually\" id=\"sk-estimator-id-1\" type=\"checkbox\" checked><label for=\"sk-estimator-id-1\" class=\"sk-toggleable__label sk-toggleable__label-arrow\">LogisticRegression</label><div class=\"sk-toggleable__content\"><pre>LogisticRegression()</pre></div></div></div></div></div>"
      ],
      "text/plain": [
       "LogisticRegression()"
      ]
     },
     "execution_count": 9,
     "metadata": {},
     "output_type": "execute_result"
    }
   ],
   "source": [
    "model = LogisticRegression()\n",
    "model.fit(x_train, y_train)"
   ]
  },
  {
   "cell_type": "markdown",
   "id": "b4ab0959-847b-4fc1-aa5c-fe45bd5d8c92",
   "metadata": {},
   "source": [
    "#### Check the model accuracy -"
   ]
  },
  {
   "cell_type": "code",
   "execution_count": 10,
   "id": "f3b64948-a2a6-4784-965d-9bc0131d9615",
   "metadata": {},
   "outputs": [
    {
     "data": {
      "text/plain": [
       "0.9666666666666667"
      ]
     },
     "execution_count": 10,
     "metadata": {},
     "output_type": "execute_result"
    }
   ],
   "source": [
    "model.score(x_test, y_test)"
   ]
  },
  {
   "cell_type": "code",
   "execution_count": 11,
   "id": "428b7029-6b42-479f-87a9-ce20aa9f8df2",
   "metadata": {},
   "outputs": [
    {
     "data": {
      "text/plain": [
       "<matplotlib.image.AxesImage at 0x7f7c15286c90>"
      ]
     },
     "execution_count": 11,
     "metadata": {},
     "output_type": "execute_result"
    },
    {
     "data": {
      "image/png": "[encoded data removed]",
      "text/plain": [
       "<Figure size 480x480 with 1 Axes>"
      ]
     },
     "metadata": {},
     "output_type": "display_data"
    }
   ],
   "source": [
    "#let us take a random sample for prediction\n",
    "#this is an image of a digit\n",
    "plt.matshow(digits.images[67])"
   ]
  },
  {
   "cell_type": "markdown",
   "id": "22ffd774-55c6-4e6c-99f1-ec02b6e0028d",
   "metadata": {},
   "source": [
    "#### Here we tested our model with the 67th sample from the data set. The data corresponding to this sample was passed to predict() method to judge the digit shown by the sample."
   ]
  },
  {
   "cell_type": "code",
   "execution_count": 12,
   "id": "219864a1-caf2-4dfd-990a-d4ee2184282f",
   "metadata": {},
   "outputs": [
    {
     "data": {
      "text/plain": [
       "array([6])"
      ]
     },
     "execution_count": 12,
     "metadata": {},
     "output_type": "execute_result"
    }
   ],
   "source": [
    "#the corresponding data for this image is data[67]\n",
    "#let us supply this data for our model -> gives 6\n",
    "model.predict([digits.data[67]])"
   ]
  },
  {
   "cell_type": "markdown",
   "id": "89b5b268-ae40-4e2d-8cd7-00308ad01296",
   "metadata": {},
   "source": [
    "#### Our model predicted here that it is digit 6."
   ]
  },
  {
   "cell_type": "code",
   "execution_count": 13,
   "id": "f6552aee-be92-42ae-a535-3062625e2372",
   "metadata": {},
   "outputs": [
    {
     "data": {
      "text/plain": [
       "6"
      ]
     },
     "execution_count": 13,
     "metadata": {},
     "output_type": "execute_result"
    }
   ],
   "source": [
    "#what is the actual digit?\n",
    "digits.target[67]"
   ]
  },
  {
   "cell_type": "markdown",
   "id": "fe10833e-ba7d-4f3d-b626-a35d91b95ff8",
   "metadata": {},
   "source": [
    "#### Let us now predict digits for data [30:35] -"
   ]
  },
  {
   "cell_type": "code",
   "execution_count": 14,
   "id": "03d8e95e-b149-4155-be39-04e8a928dc51",
   "metadata": {},
   "outputs": [
    {
     "data": {
      "text/plain": [
       "array([0, 9, 5, 5, 6])"
      ]
     },
     "execution_count": 14,
     "metadata": {},
     "output_type": "execute_result"
    }
   ],
   "source": [
    "model.predict(digits.data[30:35])"
   ]
  },
  {
   "cell_type": "markdown",
   "id": "d9de3bee-0e56-43dd-9224-8c517240c974",
   "metadata": {},
   "source": [
    "#### Verify by comparing them with actual target digits -"
   ]
  },
  {
   "cell_type": "code",
   "execution_count": 15,
   "id": "04ca2d79-8bca-4c4d-8fc2-8da3aa42cefd",
   "metadata": {},
   "outputs": [
    {
     "data": {
      "text/plain": [
       "array([0, 9, 5, 5, 6])"
      ]
     },
     "execution_count": 15,
     "metadata": {},
     "output_type": "execute_result"
    }
   ],
   "source": [
    "#gives array([0, 9, 5, 5, 6])\n",
    "digits.target[30:35]"
   ]
  },
  {
   "cell_type": "code",
   "execution_count": 16,
   "id": "acbb4ac3-4e13-4b37-b6ce-097235092f51",
   "metadata": {},
   "outputs": [],
   "source": [
    "#to view the above images\n",
    "# plt.gray()\n",
    "# for i in range(30,35):\n",
    "#     plt.matshow(digits.images[i])"
   ]
  },
  {
   "cell_type": "markdown",
   "id": "c71f88be-416b-41eb-88dd-9bcc867b8f3d",
   "metadata": {},
   "source": [
    "## Drawing Confusion Matrix :"
   ]
  },
  {
   "cell_type": "markdown",
   "id": "8abba71d-aed6-4847-a56b-37b030826e19",
   "metadata": {},
   "source": [
    "#### 1. Find the predicted values by the model when test data is given -"
   ]
  },
  {
   "cell_type": "code",
   "execution_count": 17,
   "id": "361253de-3592-45d0-869b-ebba0b4f75ef",
   "metadata": {},
   "outputs": [],
   "source": [
    "y_predicted = model.predict(x_test)"
   ]
  },
  {
   "cell_type": "markdown",
   "id": "6df8f9ba-1c85-408b-9c9c-94571f919bca",
   "metadata": {},
   "source": [
    "#### 2. Create confusion matrix by passing expected data and predicted data -"
   ]
  },
  {
   "cell_type": "code",
   "execution_count": 18,
   "id": "1c6299be-5388-4826-813d-7a8b1d5eb824",
   "metadata": {},
   "outputs": [
    {
     "data": {
      "text/plain": [
       "array([[50,  0,  0,  0,  0,  2,  0,  0,  0,  0],\n",
       "       [ 0, 39,  0,  0,  0,  0,  0,  0,  0,  0],\n",
       "       [ 0,  1, 44,  0,  0,  0,  0,  0,  0,  0],\n",
       "       [ 0,  0,  0, 51,  0,  1,  0,  0,  4,  1],\n",
       "       [ 0,  0,  0,  0, 58,  0,  0,  1,  0,  0],\n",
       "       [ 0,  0,  0,  0,  1, 49,  0,  0,  0,  0],\n",
       "       [ 0,  0,  0,  0,  0,  0, 55,  0,  1,  0],\n",
       "       [ 0,  0,  0,  1,  0,  0,  0, 63,  0,  0],\n",
       "       [ 0,  3,  0,  0,  0,  0,  0,  0, 59,  0],\n",
       "       [ 0,  0,  0,  0,  0,  0,  0,  0,  2, 54]])"
      ]
     },
     "execution_count": 18,
     "metadata": {},
     "output_type": "execute_result"
    }
   ],
   "source": [
    "cm = confusion_matrix(y_test, y_predicted)\n",
    "cm"
   ]
  },
  {
   "cell_type": "markdown",
   "id": "0b690831-dc35-46bd-87ae-711d836f51ee",
   "metadata": {},
   "source": [
    "#### 3. Define width and height of the figure in inches -"
   ]
  },
  {
   "cell_type": "code",
   "execution_count": 19,
   "id": "a502a52d-af67-4fa6-9986-209af07bd440",
   "metadata": {},
   "outputs": [
    {
     "data": {
      "text/plain": [
       "<Figure size 1000x700 with 0 Axes>"
      ]
     },
     "execution_count": 19,
     "metadata": {},
     "output_type": "execute_result"
    },
    {
     "data": {
      "text/plain": [
       "<Figure size 1000x700 with 0 Axes>"
      ]
     },
     "metadata": {},
     "output_type": "display_data"
    }
   ],
   "source": [
    "#plt is pyplot object\n",
    "plt.figure(figsize=(10,7))"
   ]
  },
  {
   "cell_type": "markdown",
   "id": "f6701357-c57a-4af1-8a37-f00fea57faea",
   "metadata": {},
   "source": [
    "#### 4. Draw heatmap with values -"
   ]
  },
  {
   "cell_type": "code",
   "execution_count": 20,
   "id": "9c38cd36-f6ad-4453-95e5-dcb13bf227e2",
   "metadata": {},
   "outputs": [
    {
     "data": {
      "text/plain": [
       "Text(50.722222222222214, 0.5, 'Predicted Value')"
      ]
     },
     "execution_count": 20,
     "metadata": {},
     "output_type": "execute_result"
    },
    {
     "data": {
      "image/png": "[encoded data removed]",
      "text/plain": [
       "<Figure size 640x480 with 2 Axes>"
      ]
     },
     "metadata": {},
     "output_type": "display_data"
    }
   ],
   "source": [
    "sns.heatmap(cm, annot=True)\n",
    "plt.xlabel('Original Value')\n",
    "plt.ylabel('Predicted Value')"
   ]
  },
  {
   "cell_type": "markdown",
   "id": "9c920293-3aea-4df2-9f11-305b889eaefc",
   "metadata": {},
   "source": [
    "### Now understand carefully here -\n",
    "#### In the confusion matrix shown above, observe the diagonal elements or values. They are 47,57,49,...,66,48,46. But **how to understand them ?** \n",
    "1. Observe that on X axis we are plotting the original values and on Y axis we are showing predicted values by the model.\n",
    "2. So, in the diagonal, 47 tells that the digit '0' was predicted for 47 times accurately as 0.\n",
    "3. The value 57 tells that 1 was predicted 57 times as 1.\n",
    "\n",
    "#### Now let us take the other values in the matrix. They represent how many times our model predicted incorrectly. If we see at the circled points, we can see that **3 was predicted as 9**, 2 times; and **7 was predicted as 3**, 1 time."
   ]
  }
 ],
 "metadata": {
  "kernelspec": {
   "display_name": "Python 3 (ipykernel)",
   "language": "python",
   "name": "python3"
  },
  "language_info": {
   "codemirror_mode": {
    "name": "ipython",
    "version": 3
   },
   "file_extension": ".py",
   "mimetype": "text/x-python",
   "name": "python",
   "nbconvert_exporter": "python",
   "pygments_lexer": "ipython3",
   "version": "3.11.5"
  }
 },
 "nbformat": 4,
 "nbformat_minor": 5
}
